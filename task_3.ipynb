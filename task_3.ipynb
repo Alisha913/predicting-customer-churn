{
  "nbformat": 4,
  "nbformat_minor": 0,
  "metadata": {
    "colab": {
      "provenance": []
    },
    "kernelspec": {
      "name": "python3",
      "display_name": "Python 3"
    },
    "language_info": {
      "name": "python"
    }
  },
  "cells": [
    {
      "cell_type": "code",
      "execution_count": 6,
      "metadata": {
        "colab": {
          "base_uri": "https://localhost:8080/",
          "height": 1000
        },
        "id": "PMt2Xkd7keia",
        "outputId": "3833f687-7b35-4f85-c1a3-9297b0cbe9ec"
      },
      "outputs": [
        {
          "output_type": "display_data",
          "data": {
            "text/plain": [
              "<Figure size 1000x500 with 1 Axes>"
            ],
            "image/png": "[encoded data removed]"
          },
          "metadata": {}
        },
        {
          "output_type": "stream",
          "name": "stdout",
          "text": [
            "Logistic Regression Performance\n",
            "Accuracy: 0.867\n",
            "Confusion Matrix:\n",
            " [[838  19]\n",
            " [114  29]]\n",
            "Classification Report:\n",
            "               precision    recall  f1-score   support\n",
            "\n",
            "           0       0.88      0.98      0.93       857\n",
            "           1       0.60      0.20      0.30       143\n",
            "\n",
            "    accuracy                           0.87      1000\n",
            "   macro avg       0.74      0.59      0.62      1000\n",
            "weighted avg       0.84      0.87      0.84      1000\n",
            "\n",
            "\n",
            "Random Forest Performance\n",
            "Accuracy: 0.937\n",
            "Confusion Matrix:\n",
            " [[848   9]\n",
            " [ 54  89]]\n",
            "Classification Report:\n",
            "               precision    recall  f1-score   support\n",
            "\n",
            "           0       0.94      0.99      0.96       857\n",
            "           1       0.91      0.62      0.74       143\n",
            "\n",
            "    accuracy                           0.94      1000\n",
            "   macro avg       0.92      0.81      0.85      1000\n",
            "weighted avg       0.94      0.94      0.93      1000\n",
            "\n"
          ]
        }
      ],
      "source": [
        "import pandas as pd\n",
        "from sklearn.model_selection import train_test_split\n",
        "from sklearn.preprocessing import StandardScaler\n",
        "from sklearn.linear_model import LogisticRegression\n",
        "from sklearn.ensemble import RandomForestClassifier\n",
        "from sklearn.metrics import accuracy_score\n",
        "import matplotlib.pyplot as plt\n",
        "\n",
        "# Load the dataset\n",
        "data = pd.read_csv('/content/telecom_churn.csv')\n",
        "\n",
        "# Feature selection\n",
        "X = data.drop(['Churn'], axis=1)\n",
        "y = data['Churn']\n",
        "\n",
        "# Split the dataset into training and testing sets\n",
        "X_train, X_test, y_train, y_test = train_test_split(X, y, test_size=0.3, random_state=42)\n",
        "\n",
        "# Feature scaling\n",
        "scaler = StandardScaler()\n",
        "X_train = scaler.fit_transform(X_train)\n",
        "X_test = scaler.transform(X_test)\n",
        "\n",
        "# Logistic Regression model\n",
        "log_model = LogisticRegression(random_state=42)\n",
        "log_model.fit(X_train, y_train)\n",
        "y_pred_log = log_model.predict(X_test)\n",
        "\n",
        "# Random Forest model\n",
        "rf_model = RandomForestClassifier(n_estimators=100, random_state=42)\n",
        "rf_model.fit(X_train, y_train)\n",
        "y_pred_rf = rf_model.predict(X_test)\n",
        "\n",
        "# Calculate accuracy\n",
        "accuracy_log = accuracy_score(y_test, y_pred_log)\n",
        "accuracy_rf = accuracy_score(y_test, y_pred_rf)\n",
        "\n",
        "# Plot the accuracy\n",
        "models = ['Logistic Regression', 'Random Forest']\n",
        "accuracies = [accuracy_log, accuracy_rf]\n",
        "\n",
        "plt.figure(figsize=(10, 5))\n",
        "plt.bar(models, accuracies, color=['blue', 'green'])\n",
        "plt.ylim(0, 1)\n",
        "plt.ylabel('Accuracy')\n",
        "plt.title('Model Accuracy Comparison')\n",
        "plt.show()\n",
        "# Evaluate models\n",
        "print(\"Logistic Regression Performance\")\n",
        "print(\"Accuracy:\", accuracy_score(y_test, y_pred_log))\n",
        "print(\"Confusion Matrix:\\n\",confusion_matrix(y_test, y_pred_log))\n",
        "print(\"Classification Report:\\n\",classification_report(y_test, y_pred_log))\n",
        "\n",
        "print(\"\\nRandom Forest Performance\")\n",
        "print(\"Accuracy:\", accuracy_score(y_test, y_pred_rf))\n",
        "print(\"Confusion Matrix:\\n\", confusion_matrix(y_test, y_pred_rf))\n",
        "print(\"Classification Report:\\n\", classification_report(y_test, y_pred_rf))\n"
      ]
    },
    {
      "cell_type": "code",
      "source": [],
      "metadata": {
        "id": "0Zye2FB0nIiS"
      },
      "execution_count": null,
      "outputs": []
    }
  ]
}